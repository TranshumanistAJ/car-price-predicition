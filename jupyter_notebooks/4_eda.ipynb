{
 "cells": [
  {
   "cell_type": "markdown",
   "metadata": {},
   "source": [
    "# Exploratory Data Analysis\n",
    "## Objectives\n",
    "* Visualize correlations between car attributes and selling price.\n",
    "* Validate hypotheses about price correlations.\n",
    "\n",
    "## Outputs\n",
    "* Correlation heatmap and scatter plots saved as images.\n",
    "\n",
    "## Additional Comments\n",
    "* Use seaborn for visualizations."
   ]
  },
  {
   "cell_type": "code",
   "execution_count": null,
   "metadata": {},
   "outputs": [],
   "source": [
    "import pandas as pd\n",
    "import matplotlib.pyplot as plt\n",
    "import seaborn as sns\n",
    "\n",
    "# Load cleaned dataset\n",
    "df = pd.read_csv('../../datasets/cleaned_car_data.csv')\n",
    "\n",
    "# Correlation heatmap\n",
    "plt.figure(figsize=(10, 8))\n",
    "sns.heatmap(df.corr(), annot=True, cmap='coolwarm')\n",
    "plt.title('Correlation Heatmap')\n",
    "plt.savefig('../../outputs/correlation_heatmap.png')\n",
    "\n",
    "# Scatter plot: Present_Price vs Selling_Price\n",
    "plt.figure(figsize=(8, 6))\n",
    "sns.scatterplot(x='Present_Price(lacs)', y='Selling_Price(lacs)', data=df)\n",
    "plt.title('Present Price vs Selling Price')\n",
    "plt.savefig('../../outputs/present_vs_selling_price.png')\n",
    "\n",
    "# Box plot: Fuel_Type vs Selling_Price\n",
    "plt.figure(figsize=(8, 6))\n",
    "sns.boxplot(x='Fuel_Type', y='Selling_Price(lacs)', data=df)\n",
    "plt.title('Fuel Type vs Selling Price')\n",
    "plt.savefig('../../outputs/fuel_type_vs_selling_price.png')\n",
    "\n",
    "# Box plot: Transmission vs Selling_Price\n",
    "plt.figure(figsize=(8, 6))\n",
    "sns.boxplot(x='Transmission', y='Selling_Price(lacs)', data=df)\n",
    "plt.title('Transmission vs Selling Price')\n",
    "plt.savefig('../../outputs/transmission_vs_selling_price.png')\n",
    "\n",
    "plt.close('all')"
   ]
  }
 ],
 "metadata": {
  "kernelspec": {
   "display_name": "Python 3",
   "language": "python",
   "name": "python3"
  },
  "language_info": {
   "codemirror_mode": {
    "name": "ipython",
    "version": 3
   },
   "file_extension": ".py",
   "mimetype": "text/x-python",
   "name": "python",
   "nbconvert_exporter": "python",
   "pygments_lexer": "ipython3",
   "version": "3.7.6"
  }
 },
 "nbformat": 4,
 "nbformat_minor": 4
}