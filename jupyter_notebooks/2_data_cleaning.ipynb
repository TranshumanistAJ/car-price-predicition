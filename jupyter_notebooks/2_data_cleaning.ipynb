{
 "cells": [
  {
   "cell_type": "markdown",
   "metadata": {},
   "source": [
    "# Data Cleaning\n",
    "## Objectives\n",
    "* Clean the dataset by handling missing values, transforming 'Year' to 'Age', and renaming columns for consistency.\n",
    "* Ensure the dataset is ready for feature engineering.\n",
    "\n",
    "## Outputs\n",
    "* Cleaned dataset saved as 'cleaned_car_data.csv' in the datasets/ folder.\n",
    "\n",
    "## Additional Comments\n",
    "* Check for missing values and ensure appropriate column names.\n",
    "* Transform 'Year' to 'Age' based on the current year (2025)."
   ]
  },
  {
   "cell_type": "code",
   "execution_count": null,
   "metadata": {},
   "outputs": [],
   "source": [
    "import pandas as pd\n",
    "import numpy as np\n",
    "\n",
    "# Load dataset\n",
    "df = pd.read_csv('../datasets/car_data.csv')\n",
    "\n",
    "# Display basic info\n",
    "print('Dataset Info:')\n",
    "df.info()\n",
    "\n",
    "# Check for missing values\n",
    "print('\\nMissing Values:')\n",
    "print(df.isna().sum())\n",
    "\n",
    "# Handle missing values (if any)\n",
    "# For numerical columns, fill with median; for categorical, fill with mode\n",
    "for col in ['Selling_Price', 'Present_Price', 'Kms_Driven', 'Owner']:\n",
    "    if df[col].isna().sum() > 0:\n",
    "        df[col].fillna(df[col].median(), inplace=True)\n",
    "\n",
    "for col in ['Fuel_Type', 'Seller_Type', 'Transmission']:\n",
    "    if df[col].isna().sum() > 0:\n",
    "        df[col].fillna(df[col].mode()[0], inplace=True)\n",
    "\n",
    "# Transform 'Year' to 'Age'\n",
    "current_year = 2025\n",
    "df['Age'] = current_year - df['Year']\n",
    "df.drop('Year', axis=1, inplace=True)\n",
    "\n",
    "# Rename columns for consistency\n",
    "df.rename(columns={\n",
    "    'Selling_Price': 'Selling_Price(lacs)',\n",
    "    'Present_Price': 'Present_Price(lacs)',\n",
    "    'Kms_Driven': 'Kms_Driven',\n",
    "    'Owner': 'Past_Owners'\n",
    "}, inplace=True)\n",
    "\n",
    "# Save cleaned dataset\n",
    "df.to_csv('../datasets/cleaned_car_data.csv', index=False)\n",
    "\n",
    "# Display first few rows\n",
    "df.head()"
   ]
  }
 ],
 "metadata": {
  "kernelspec": {
   "display_name": "Python 3",
   "language": "python",
   "name": "python3"
  },
  "language_info": {
   "codemirror_mode": {
    "name": "ipython",
    "version": 3
   },
   "file_extension": ".py",
   "mimetype": "text/x-python",
   "name": "python",
   "nbconvert_exporter": "python",
   "pygments_lexer": "ipython3",
   "version": "3.7.6"
  }
 },
 "nbformat": 4,
 "nbformat_minor": 4
}