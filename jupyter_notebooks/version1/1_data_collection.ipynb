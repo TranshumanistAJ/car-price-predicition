{
 "cells": [
  {
   "cell_type": "code",
   "execution_count": null,
   "id": "431f7250",
   "metadata": {
    "vscode": {
     "languageId": "plaintext"
    }
   },
   "outputs": [],
   "source": [
    "{\n",
    " \"cells\": [\n",
    "  {\n",
    "   \"cell_type\": \"markdown\",\n",
    "   \"metadata\": {},\n",
    "   \"source\": [\n",
    "    \"# Data Collection\\n\",\n",
    "    \"## Objectives\\n\",\n",
    "    \"* Download and load the car dataset from Kaggle (https://www.kaggle.com/datasets/nehalbirla/vehicle-dataset-from-cardekho).\\n\",\n",
    "    \"* Import necessary packages.\\n\",\n",
    "    \"\\n\",\n",
    "    \"## Outputs\\n\",\n",
    "    \"* Loaded dataset ready for cleaning and analysis.\\n\",\n",
    "    \"\\n\",\n",
    "    \"## Additional Comments\\n\",\n",
    "    \"* Ensure the dataset is placed in the `datasets/` folder.\"\n",
    "   ]\n",
    "  },\n",
    "  {\n",
    "   \"cell_type\": \"code\",\n",
    "   \"execution_count\": null,\n",
    "   \"metadata\": {},\n",
    "   \"outputs\": [],\n",
    "   \"source\": [\n",
    "    \"import pandas as pd\\n\",\n",
    "    \"import numpy as np\\n\",\n",
    "    \"\\n\",\n",
    "    \"# Load dataset\\n\",\n",
    "    \"df = pd.read_csv('../datasets/car_data.csv')\\n\",\n",
    "    \"\\n\",\n",
    "    \"# Display first few rows\\n\",\n",
    "    \"df.head()\\n\",\n",
    "    \"\\n\",\n",
    "    \"# Display basic info\\n\",\n",
    "    \"df.info()\\n\",\n",
    "    \"\\n\",\n",
    "    \"# Check for missing values\\n\",\n",
    "    \"df.isna().sum()\"\n",
    "   ]\n",
    "  }\n",
    " ],\n",
    " \"metadata\": {\n",
    "  \"kernelspec\": {\n",
    "   \"display_name\": \"Python 3\",\n",
    "   \"language\": \"python\",\n",
    "   \"name\": \"python3\"\n",
    "  },\n",
    "  \"language_info\": {\n",
    "   \"codemirror_mode\": {\n",
    "    \"name\": \"ipython\",\n",
    "    \"version\": 3\n",
    "   },\n",
    "   \"file_extension\": \".py\",\n",
    "   \"mimetype\": \"text/x-python\",\n",
    "   \"name\": \"python\",\n",
    "   \"nbconvert_exporter\": \"python\",\n",
    "   \"pygments_lexer\": \"ipython3\",\n",
    "   \"version\": \"3.7.6\"\n",
    "  }\n",
    " },\n",
    " \"nbformat\": 4,\n",
    " \"nbformat_minor\": 4\n",
    "}"
   ]
  }
 ],
 "metadata": {
  "language_info": {
   "name": "python"
  }
 },
 "nbformat": 4,
 "nbformat_minor": 5
}
