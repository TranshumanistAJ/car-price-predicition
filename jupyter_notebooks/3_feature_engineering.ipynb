{
 "cells": [
  {
   "cell_type": "markdown",
   "metadata": {},
   "source": [
    "# Feature Engineering\n",
    "## Objectives\n",
    "* Encode categorical variables (Fuel_Type, Seller_Type, Transmission).\n",
    "* Scale numerical features for ML.\n",
    "\n",
    "## Outputs\n",
    "* Processed dataset saved as 'processed_car_data.csv'.\n",
    "\n",
    "## Additional Comments\n",
    "* Use one-hot encoding for categorical variables and StandardScaler for numerical features."
   ]
  },
  {
   "cell_type": "code",
   "execution_count": null,
   "metadata": {},
   "outputs": [],
   "source": [
    "import pandas as pd\n",
    "import numpy as np\n",
    "\n",
    "# Load dataset\n",
    "df = pd.read_csv('../datasets/car_dataset.csv')\n",
    "\n",
    "# Display basic info\n",
    "print('Dataset Info:')\n",
    "df.info()\n"
   ]
  },
  {
   "cell_type": "code",
   "execution_count": null,
   "metadata": {},
   "outputs": [],
   "source": []
  }
 ],
 "metadata": {
  "kernelspec": {
   "display_name": "Python 3",
   "language": "python",
   "name": "python3"
  },
  "language_info": {
   "codemirror_mode": {
    "name": "ipython",
    "version": 3
   },
   "file_extension": ".py",
   "mimetype": "text/x-python",
   "name": "python",
   "nbconvert_exporter": "python",
   "pygments_lexer": "ipython3",
   "version": "3.7.6"
  }
 },
 "nbformat": 4,
 "nbformat_minor": 4
}
