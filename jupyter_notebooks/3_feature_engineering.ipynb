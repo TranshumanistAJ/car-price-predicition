{
 "cells": [
  {
   "cell_type": "markdown",
   "metadata": {},
   "source": [
    "# Feature Engineering\n",
    "## Objectives\n",
    "* Encode categorical variables (Fuel_Type, Seller_Type, Transmission).\n",
    "* Scale numerical features for ML.\n",
    "\n",
    "## Outputs\n",
    "* Processed dataset saved as 'processed_car_data.csv'.\n",
    "\n",
    "## Additional Comments\n",
    "* Use one-hot encoding for categorical variables and StandardScaler for numerical features."
   ]
  },
  {
   "cell_type": "code",
   "execution_count": null,
   "metadata": {},
   "outputs": [],
   "source": [
    "import pandas as pd\n",
    "from sklearn.preprocessing import StandardScaler\n",
    "\n",
    "# Load cleaned dataset\n",
    "df = pd.read_csv('../../datasets/cleaned_car_data.csv')\n",
    "\n",
    "# One-hot encode categorical variables\n",
    "df = pd.get_dummies(df, columns=['Fuel_Type', 'Seller_Type', 'Transmission'], drop_first=True)\n",
    "\n",
    "# Scale numerical features\n",
    "scaler = StandardScaler()\n",
    "numerical_cols = ['Present_Price(lacs)', 'Kms_Driven', 'Past_Owners', 'Age']\n",
    "df[numerical_cols] = scaler.fit_transform(df[numerical_cols])\n",
    "\n",
    "# Save processed dataset\n",
    "df.to_csv('../../datasets/processed_car_data.csv', index=False)\n",
    "\n",
    "# Display first few rows\n",
    "df.head()"
   ]
  }
 ],
 "metadata": {
  "kernelspec": {
   "display_name": "Python 3",
   "language": "python",
   "name": "python3"
  },
  "language_info": {
   "codemirror_mode": {
    "name": "ipython",
    "version": 3
   },
   "file_extension": ".py",
   "mimetype": "text/x-python",
   "name": "python",
   "nbconvert_exporter": "python",
   "pygments_lexer": "ipython3",
   "version": "3.7.6"
  }
 },
 "nbformat": 4,
 "nbformat_minor": 4
}